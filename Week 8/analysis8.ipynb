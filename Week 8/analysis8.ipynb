{
 "cells": [
  {
   "cell_type": "code",
   "execution_count": 2,
   "metadata": {},
   "outputs": [],
   "source": [
    "import duckdb as db\n",
    "import pandas as pd"
   ]
  },
  {
   "cell_type": "code",
   "execution_count": null,
   "metadata": {},
   "outputs": [
    {
     "name": "stdout",
     "output_type": "stream",
     "text": [
      "Processing batch with 326281 rows...\n",
      "Processing batch with 325599 rows...\n",
      "Processing batch with 327491 rows...\n",
      "Processing batch with 327239 rows...\n",
      "Processing batch with 330639 rows...\n",
      "Processing batch with 331593 rows...\n",
      "Processing batch with 332094 rows...\n",
      "Processing batch with 331220 rows...\n",
      "Processing batch with 330506 rows...\n",
      "Processing batch with 327535 rows...\n",
      "Processing batch with 327859 rows...\n",
      "Processing batch with 325406 rows...\n",
      "Processing batch with 325846 rows...\n",
      "Processing batch with 325949 rows...\n",
      "Processing batch with 325316 rows...\n",
      "Processing batch with 325436 rows...\n",
      "Processing batch with 326256 rows...\n"
     ]
    },
    {
     "ename": "ArrowInvalid",
     "evalue": "In CSV column #37: CSV conversion error to null: invalid value '75.38'",
     "output_type": "error",
     "traceback": [
      "\u001b[0;31m---------------------------------------------------------------------------\u001b[0m",
      "\u001b[0;31mArrowInvalid\u001b[0m                              Traceback (most recent call last)",
      "Cell \u001b[0;32mIn[4], line 25\u001b[0m\n\u001b[1;32m     22\u001b[0m parquet_writer \u001b[38;5;241m=\u001b[39m \u001b[38;5;28;01mNone\u001b[39;00m\n\u001b[1;32m     24\u001b[0m \u001b[38;5;28;01mtry\u001b[39;00m:\n\u001b[0;32m---> 25\u001b[0m \u001b[43m    \u001b[49m\u001b[38;5;28;43;01mfor\u001b[39;49;00m\u001b[43m \u001b[49m\u001b[43mrecord_batch\u001b[49m\u001b[43m \u001b[49m\u001b[38;5;129;43;01min\u001b[39;49;00m\u001b[43m \u001b[49m\u001b[43mcsv_reader\u001b[49m\u001b[43m:\u001b[49m\n\u001b[1;32m     26\u001b[0m \u001b[43m        \u001b[49m\u001b[38;5;28;43mprint\u001b[39;49m\u001b[43m(\u001b[49m\u001b[38;5;124;43mf\u001b[39;49m\u001b[38;5;124;43m\"\u001b[39;49m\u001b[38;5;124;43mProcessing batch with \u001b[39;49m\u001b[38;5;132;43;01m{\u001b[39;49;00m\u001b[43mrecord_batch\u001b[49m\u001b[38;5;241;43m.\u001b[39;49m\u001b[43mnum_rows\u001b[49m\u001b[38;5;132;43;01m}\u001b[39;49;00m\u001b[38;5;124;43m rows...\u001b[39;49m\u001b[38;5;124;43m\"\u001b[39;49m\u001b[43m)\u001b[49m\n\u001b[1;32m     28\u001b[0m \u001b[43m        \u001b[49m\u001b[38;5;66;43;03m# Convert to Polars for further cleaning\u001b[39;49;00m\n",
      "File \u001b[0;32m/Library/Frameworks/Python.framework/Versions/3.12/lib/python3.12/site-packages/pyarrow/ipc.pxi:671\u001b[0m, in \u001b[0;36mpyarrow.lib.RecordBatchReader.__next__\u001b[0;34m()\u001b[0m\n",
      "File \u001b[0;32m/Library/Frameworks/Python.framework/Versions/3.12/lib/python3.12/site-packages/pyarrow/ipc.pxi:705\u001b[0m, in \u001b[0;36mpyarrow.lib.RecordBatchReader.read_next_batch\u001b[0;34m()\u001b[0m\n",
      "File \u001b[0;32m/Library/Frameworks/Python.framework/Versions/3.12/lib/python3.12/site-packages/pyarrow/error.pxi:92\u001b[0m, in \u001b[0;36mpyarrow.lib.check_status\u001b[0;34m()\u001b[0m\n",
      "\u001b[0;31mArrowInvalid\u001b[0m: In CSV column #37: CSV conversion error to null: invalid value '75.38'"
     ]
    }
   ],
   "source": [
    "import pyarrow.csv as pv\n",
    "import pyarrow.parquet as pq\n",
    "import pyarrow as pa\n",
    "import polars as pl\n",
    "\n",
    "\n",
    "csv_file = \"../data/analysis_baseball.csv\"\n",
    "parquet_file = \"../data/baseball_analysis.parquet\"\n",
    "\n",
    "BLOCK_SIZE = 120_000_000\n",
    "read_options = pv.ReadOptions(block_size=BLOCK_SIZE)\n",
    "\n",
    "# Read CSV with schema enforcement\n",
    "csv_reader = pv.open_csv(csv_file, read_options=read_options)\n",
    "\n",
    "parquet_writer = None\n",
    "\n",
    "try:\n",
    "    for record_batch in csv_reader:\n",
    "        print(f\"Processing batch with {record_batch.num_rows} rows...\")\n",
    "\n",
    "        # Convert to Polars for further cleaning\n",
    "        df = pl.from_arrow(record_batch)\n",
    "\n",
    "        table = df.to_arrow()\n",
    "\n",
    "        if parquet_writer is None:\n",
    "            parquet_writer = pq.ParquetWriter(\n",
    "                parquet_file, \n",
    "                schema=table.schema, \n",
    "                compression=\"zstd\"\n",
    "            )\n",
    "        parquet_writer.write_table(table)\n",
    "\n",
    "finally:\n",
    "    if parquet_writer:\n",
    "        parquet_writer.close()\n",
    "\n",
    "print(f\"Successfully converted {csv_file} to {parquet_file}\")\n"
   ]
  },
  {
   "cell_type": "code",
   "execution_count": null,
   "metadata": {},
   "outputs": [],
   "source": [
    "file_path = \"../data/concat_baseball.parquet\"\n",
    "\n",
    "result1 = db.query(f\"\"\"SELECT pixel_color, COUNT(DISTINCT user_id) AS user_count\n",
    "                        FROM '{file_path}'\n",
    "                        WHERE \n",
    "                        GROUP BY pixel_color\n",
    "                        ORDER BY user_count DESC;\"\"\")\n",
    "                      \n",
    "df1 = result1.to_df()\n",
    "\n",
    "\n"
   ]
  },
  {
   "cell_type": "code",
   "execution_count": 3,
   "metadata": {},
   "outputs": [
    {
     "name": "stderr",
     "output_type": "stream",
     "text": [
      "/var/folders/wn/1h4z_5y959g0lxlcphs4q6bc0000gn/T/ipykernel_96576/1907739060.py:1: DtypeWarning: Columns (0,42,76,85,86) have mixed types. Specify dtype option on import or set low_memory=False.\n",
      "  df = pd.read_csv(\"../data/concat_baseball.csv\")\n"
     ]
    },
    {
     "ename": "",
     "evalue": "",
     "output_type": "error",
     "traceback": [
      "\u001b[1;31mThe Kernel crashed while executing code in the current cell or a previous cell. \n",
      "\u001b[1;31mPlease review the code in the cell(s) to identify a possible cause of the failure. \n",
      "\u001b[1;31mClick <a href='https://aka.ms/vscodeJupyterKernelCrash'>here</a> for more info. \n",
      "\u001b[1;31mView Jupyter <a href='command:jupyter.viewOutput'>log</a> for further details."
     ]
    }
   ],
   "source": [
    "df = pd.read_csv(\"../data/concat_baseball.csv\")\n",
    "\n",
    "df.head()"
   ]
  }
 ],
 "metadata": {
  "kernelspec": {
   "display_name": "Python 3",
   "language": "python",
   "name": "python3"
  },
  "language_info": {
   "codemirror_mode": {
    "name": "ipython",
    "version": 3
   },
   "file_extension": ".py",
   "mimetype": "text/x-python",
   "name": "python",
   "nbconvert_exporter": "python",
   "pygments_lexer": "ipython3",
   "version": "3.12.2"
  }
 },
 "nbformat": 4,
 "nbformat_minor": 2
}
