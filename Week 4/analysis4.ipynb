{
 "cells": [
  {
   "cell_type": "code",
   "execution_count": null,
   "metadata": {},
   "outputs": [
    {
     "name": "stdout",
     "output_type": "stream",
     "text": [
      "      x     y  coordinate_count\n",
      "0     0     0             98807\n",
      "1   359   564             69198\n",
      "2   349   564             55230\n",
      "3   859   766             52261\n",
      "4   860   766             51485\n",
      "5   104   768             38086\n",
      "6   105   768             34082\n",
      "7  1999  1999             31437\n",
      "8  1999     0             30882\n",
      "9   633   728             30752\n"
     ]
    }
   ],
   "source": [
    "import duckdb\n",
    "import time\n",
    "import sys\n",
    "from datetime import datetime\n",
    "import requests\n",
    "\n",
    "file_path = \"../data/2022big.parquet\"\n",
    "\n",
    "result1 = duckdb.query(f\"\"\"SELECT x, y, COUNT(*) AS coordinate_count\n",
    "                        FROM '{file_path}'\n",
    "                        GROUP BY x, y\n",
    "                        ORDER BY coordinate_count DESC\n",
    "                        LIMIT 10;\"\"\")\n",
    "                      \n",
    "df1 = result1.to_df()\n",
    "print(df1)\n"
   ]
  },
  {
   "cell_type": "code",
   "execution_count": 8,
   "metadata": {},
   "outputs": [],
   "source": [
    "def get_color_name(hex_color):\n",
    "    url = f\"https://www.thecolorapi.com/id?hex={hex_color.lstrip('#')}\"\n",
    "    try:\n",
    "        response = requests.get(url)\n",
    "        if response.status_code == 200:\n",
    "            data = response.json()\n",
    "            return data.get(\"name\", {}).get(\"value\", \"Unknown\")\n",
    "        else:\n",
    "            return \"Unknown\"\n",
    "    except Exception as e:\n",
    "        return \"Unknown\""
   ]
  },
  {
   "cell_type": "code",
   "execution_count": 49,
   "metadata": {},
   "outputs": [
    {
     "name": "stdout",
     "output_type": "stream",
     "text": [
      "  pixel_color  color_count color_name\n",
      "0     #FFFFFF        59282      White\n",
      "1     #000000         8715      Black\n",
      "2     #FF4500         4209  Vermilion\n",
      "3     #811E9F         2200     Seance\n",
      "4     #BE0039         2189      Monza\n"
     ]
    }
   ],
   "source": [
    "result2 = duckdb.query(f\"\"\"SELECT pixel_color, COUNT (*) as color_count\n",
    "                        FROM '{file_path}'\n",
    "                        WHERE x == 0 and y == 0\n",
    "                        GROUP BY pixel_color\n",
    "                        ORDER BY color_count DESC\n",
    "                        LIMIT 5;\"\"\")\n",
    "df2 = result2.to_df()\n",
    "\n",
    "df2['color_name'] = df2['pixel_color'].apply(get_color_name)\n",
    "\n",
    "print(df2)"
   ]
  },
  {
   "cell_type": "code",
   "execution_count": 52,
   "metadata": {},
   "outputs": [
    {
     "name": "stdout",
     "output_type": "stream",
     "text": [
      "  pixel_color  color_count   color_name\n",
      "0     #000000        34726        Black\n",
      "1     #51E9F4        26940        Spray\n",
      "2     #FF4500         1656    Vermilion\n",
      "3     #FFFFFF         1391        White\n",
      "4     #3690EA          860  Picton Blue\n"
     ]
    }
   ],
   "source": [
    "result3 = duckdb.query(f\"\"\"SELECT pixel_color, COUNT (*) as color_count\n",
    "                        FROM '{file_path}'\n",
    "                        WHERE x == 359 and y == 564\n",
    "                        GROUP BY pixel_color\n",
    "                        ORDER BY color_count DESC\n",
    "                        LIMIT 5;\"\"\")\n",
    "df3 = result3.to_df()\n",
    "\n",
    "df3['color_name'] = df3['pixel_color'].apply(get_color_name)\n",
    "\n",
    "print(df3)"
   ]
  },
  {
   "cell_type": "code",
   "execution_count": 13,
   "metadata": {},
   "outputs": [
    {
     "name": "stdout",
     "output_type": "stream",
     "text": [
      "  pixel_color  color_count color_name\n",
      "0     #000000        27804      Black\n",
      "1     #51E9F4        19404      Spray\n",
      "2     #FF4500         2120  Vermilion\n",
      "3     #FFFFFF         1512      White\n",
      "4     #BE0039          846      Monza\n"
     ]
    }
   ],
   "source": [
    "result4 = duckdb.query(f\"\"\"SELECT pixel_color, COUNT (*) as color_count\n",
    "                        FROM '{file_path}'\n",
    "                        WHERE x == 349 and y == 564\n",
    "                        GROUP BY pixel_color\n",
    "                        ORDER BY color_count DESC\n",
    "                        LIMIT 5;\"\"\")\n",
    "df4 = result4.to_df()\n",
    "\n",
    "df4['color_name'] = df4['pixel_color'].apply(get_color_name)\n",
    "\n",
    "print(df4)"
   ]
  },
  {
   "cell_type": "code",
   "execution_count": null,
   "metadata": {},
   "outputs": [
    {
     "name": "stderr",
     "output_type": "stream",
     "text": [
      "/var/folders/wn/1h4z_5y959g0lxlcphs4q6bc0000gn/T/ipykernel_4510/1692287342.py:4: FutureWarning: \n",
      "\n",
      "Passing `palette` without assigning `hue` is deprecated and will be removed in v0.14.0. Assign the `y` variable to `hue` and set `legend=False` for the same effect.\n",
      "\n",
      "  sns.barplot(x='color_count', y='color_name', data=df3, palette=pixel_color)\n"
     ]
    },
    {
     "data": {
      "text/plain": [
       "<Axes: xlabel='color_count', ylabel='color_name'>"
      ]
     },
     "execution_count": 54,
     "metadata": {},
     "output_type": "execute_result"
    },
    {
     "data": {
      "image/png": "[encoded data removed]",
      "text/plain": [
       "<Figure size 640x480 with 1 Axes>"
      ]
     },
     "metadata": {},
     "output_type": "display_data"
    }
   ],
   "source": [
    "import seaborn as sns\n",
    "pixel_color = df3[\"pixel_color\"].to_list()\n",
    "\n",
    "sns.barplot(x='color_count', y='color_name', data=df3, palette=pixel_color).set(title='Color Bar Plot for (359, 564)')"
   ]
  },
  {
   "cell_type": "code",
   "execution_count": 56,
   "metadata": {},
   "outputs": [
    {
     "name": "stderr",
     "output_type": "stream",
     "text": [
      "/var/folders/wn/1h4z_5y959g0lxlcphs4q6bc0000gn/T/ipykernel_4510/504858444.py:3: FutureWarning: \n",
      "\n",
      "Passing `palette` without assigning `hue` is deprecated and will be removed in v0.14.0. Assign the `y` variable to `hue` and set `legend=False` for the same effect.\n",
      "\n",
      "  sns.barplot(x='color_count', y='color_name', data=df4, palette=pixel_color).set(title='Color Bar Plot for (349, 564)')\n"
     ]
    },
    {
     "data": {
      "text/plain": [
       "[Text(0.5, 1.0, 'Color Bar Plot for (349, 564)')]"
      ]
     },
     "execution_count": 56,
     "metadata": {},
     "output_type": "execute_result"
    },
    {
     "data": {
      "image/png": "[encoded data removed]",
      "text/plain": [
       "<Figure size 640x480 with 1 Axes>"
      ]
     },
     "metadata": {},
     "output_type": "display_data"
    }
   ],
   "source": [
    "pixel_color = df4[\"pixel_color\"].to_list()\n",
    "\n",
    "sns.barplot(x='color_count', y='color_name', data=df4, palette=pixel_color).set(title='Color Bar Plot for (349, 564)')"
   ]
  }
 ],
 "metadata": {
  "kernelspec": {
   "display_name": "Python 3",
   "language": "python",
   "name": "python3"
  },
  "language_info": {
   "codemirror_mode": {
    "name": "ipython",
    "version": 3
   },
   "file_extension": ".py",
   "mimetype": "text/x-python",
   "name": "python",
   "nbconvert_exporter": "python",
   "pygments_lexer": "ipython3",
   "version": "3.12.2"
  }
 },
 "nbformat": 4,
 "nbformat_minor": 2
}
